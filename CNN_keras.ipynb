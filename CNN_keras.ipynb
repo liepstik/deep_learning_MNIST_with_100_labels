{
 "cells": [
  {
   "cell_type": "markdown",
   "metadata": {
    "colab_type": "text",
    "id": "view-in-github"
   },
   "source": [
    "<a href=\"https://colab.research.google.com/github/liepstik/semi_supervised_learning_MNIST/blob/master/CNN_keras.ipynb\" target=\"_parent\"><img src=\"https://colab.research.google.com/assets/colab-badge.svg\" alt=\"Open In Colab\"/></a>"
   ]
  },
  {
   "cell_type": "markdown",
   "metadata": {
    "colab_type": "text",
    "id": "pXhT46ND6U_q"
   },
   "source": [
    "# CNN (avec Keras)"
   ]
  },
  {
   "cell_type": "code",
   "execution_count": 3,
   "metadata": {},
   "outputs": [],
   "source": [
    "##### CNN sur touts les labels ########"
   ]
  },
  {
   "cell_type": "markdown",
   "metadata": {
    "colab_type": "text",
    "id": "r3P92Phx61HC"
   },
   "source": [
    "## Imports "
   ]
  },
  {
   "cell_type": "code",
   "execution_count": 4,
   "metadata": {
    "colab": {},
    "colab_type": "code",
    "id": "y9dnvGZb6M0q"
   },
   "outputs": [
    {
     "name": "stderr",
     "output_type": "stream",
     "text": [
      "Using TensorFlow backend.\n"
     ]
    }
   ],
   "source": [
    "import keras\n",
    "from keras import layers\n",
    "from keras import models\n",
    "from keras.datasets import mnist \n",
    "from keras.utils import to_categorical\n",
    "import matplotlib.pyplot as plt"
   ]
  },
  {
   "cell_type": "markdown",
   "metadata": {
    "colab_type": "text",
    "id": "cidpuD_I_Xs0"
   },
   "source": [
    "### Construction du modèle"
   ]
  },
  {
   "cell_type": "code",
   "execution_count": 5,
   "metadata": {
    "colab": {},
    "colab_type": "code",
    "id": "QvmqgsF764yM"
   },
   "outputs": [],
   "source": [
    "model = models.Sequential()\n",
    "model.add(layers.Conv2D(32, (3,3), activation=\"relu\",\n",
    "                        input_shape=(28, 28, 1)))\n",
    "model.add(layers.MaxPooling2D((2,2)))\n",
    "model.add(layers.Conv2D(64, (3,3), activation=\"relu\"))\n",
    "model.add(layers.MaxPooling2D((2,2)))\n",
    "model.add(layers.Conv2D(64, (3,3), activation=\"relu\"))"
   ]
  },
  {
   "cell_type": "code",
   "execution_count": 6,
   "metadata": {
    "colab": {
     "base_uri": "https://localhost:8080/",
     "height": 323
    },
    "colab_type": "code",
    "id": "rGUVILRh8qse",
    "outputId": "a2c42895-32a6-40eb-8d7f-5f91e36e6d44"
   },
   "outputs": [
    {
     "name": "stdout",
     "output_type": "stream",
     "text": [
      "Model: \"sequential_1\"\n",
      "_________________________________________________________________\n",
      "Layer (type)                 Output Shape              Param #   \n",
      "=================================================================\n",
      "conv2d_1 (Conv2D)            (None, 26, 26, 32)        320       \n",
      "_________________________________________________________________\n",
      "max_pooling2d_1 (MaxPooling2 (None, 13, 13, 32)        0         \n",
      "_________________________________________________________________\n",
      "conv2d_2 (Conv2D)            (None, 11, 11, 64)        18496     \n",
      "_________________________________________________________________\n",
      "max_pooling2d_2 (MaxPooling2 (None, 5, 5, 64)          0         \n",
      "_________________________________________________________________\n",
      "conv2d_3 (Conv2D)            (None, 3, 3, 64)          36928     \n",
      "=================================================================\n",
      "Total params: 55,744\n",
      "Trainable params: 55,744\n",
      "Non-trainable params: 0\n",
      "_________________________________________________________________\n"
     ]
    }
   ],
   "source": [
    "model.summary()"
   ]
  },
  {
   "cell_type": "code",
   "execution_count": 7,
   "metadata": {
    "colab": {
     "base_uri": "https://localhost:8080/",
     "height": 425
    },
    "colab_type": "code",
    "id": "MacR8dxB8uer",
    "outputId": "f626e2df-dc62-40fe-a147-7c141a3f4595"
   },
   "outputs": [
    {
     "name": "stdout",
     "output_type": "stream",
     "text": [
      "Model: \"sequential_1\"\n",
      "_________________________________________________________________\n",
      "Layer (type)                 Output Shape              Param #   \n",
      "=================================================================\n",
      "conv2d_1 (Conv2D)            (None, 26, 26, 32)        320       \n",
      "_________________________________________________________________\n",
      "max_pooling2d_1 (MaxPooling2 (None, 13, 13, 32)        0         \n",
      "_________________________________________________________________\n",
      "conv2d_2 (Conv2D)            (None, 11, 11, 64)        18496     \n",
      "_________________________________________________________________\n",
      "max_pooling2d_2 (MaxPooling2 (None, 5, 5, 64)          0         \n",
      "_________________________________________________________________\n",
      "conv2d_3 (Conv2D)            (None, 3, 3, 64)          36928     \n",
      "_________________________________________________________________\n",
      "flatten_1 (Flatten)          (None, 576)               0         \n",
      "_________________________________________________________________\n",
      "dense_1 (Dense)              (None, 64)                36928     \n",
      "_________________________________________________________________\n",
      "dense_2 (Dense)              (None, 10)                650       \n",
      "=================================================================\n",
      "Total params: 93,322\n",
      "Trainable params: 93,322\n",
      "Non-trainable params: 0\n",
      "_________________________________________________________________\n"
     ]
    }
   ],
   "source": [
    "# pour passer d'un tenseur (3D) a un vecteur (1D)\n",
    "model.add(layers.Flatten())\n",
    "model.add(layers.Dense(64, activation=\"relu\"))\n",
    "# on veut une classification a 10 classes\n",
    "model.add(layers.Dense(10, activation=\"softmax\")) \n",
    "\n",
    "model.summary()"
   ]
  },
  {
   "cell_type": "markdown",
   "metadata": {
    "colab_type": "text",
    "id": "2dHE8GCX_SuA"
   },
   "source": [
    "### Chargement des données MNIST\n"
   ]
  },
  {
   "cell_type": "code",
   "execution_count": 8,
   "metadata": {
    "colab": {},
    "colab_type": "code",
    "id": "qVVAqt7F9zFD"
   },
   "outputs": [],
   "source": [
    "(Xtrain, Ytrain), (Xtest, Ytest) = mnist.load_data()\n",
    "\n",
    "Xtrain = Xtrain.reshape((60000, 28,28,1))\n",
    "Xtrain = Xtrain.astype(\"float32\")/255\n",
    "\n",
    "Xtest = Xtest.reshape((10000, 28,28,1))\n",
    "Xtest = Xtest.astype(\"float32\")/255\n",
    "\n",
    "Ytrain = to_categorical(Ytrain)\n",
    "Ytest = to_categorical(Ytest)"
   ]
  },
  {
   "cell_type": "markdown",
   "metadata": {
    "colab_type": "text",
    "id": "oRY_jwIG_fFo"
   },
   "source": [
    "### Application du modèle"
   ]
  },
  {
   "cell_type": "code",
   "execution_count": 10,
   "metadata": {
    "colab": {
     "base_uri": "https://localhost:8080/",
     "height": 224
    },
    "colab_type": "code",
    "id": "atxUAy2__lWk",
    "outputId": "06cc965e-a5ce-48bb-cabe-0ec05bfe5c16"
   },
   "outputs": [
    {
     "name": "stdout",
     "output_type": "stream",
     "text": [
      "Train on 48000 samples, validate on 12000 samples\n",
      "Epoch 1/50\n",
      "48000/48000 [==============================] - 14s 295us/step - loss: 0.0377 - accuracy: 0.9885 - val_loss: 0.0434 - val_accuracy: 0.9878\n",
      "Epoch 2/50\n",
      "48000/48000 [==============================] - 15s 308us/step - loss: 0.0290 - accuracy: 0.9914 - val_loss: 0.0399 - val_accuracy: 0.9892\n",
      "Epoch 3/50\n",
      "48000/48000 [==============================] - 15s 308us/step - loss: 0.0226 - accuracy: 0.9930 - val_loss: 0.0407 - val_accuracy: 0.9891\n",
      "Epoch 4/50\n",
      "48000/48000 [==============================] - 15s 317us/step - loss: 0.0171 - accuracy: 0.9948 - val_loss: 0.0406 - val_accuracy: 0.9894\n",
      "Epoch 5/50\n",
      "48000/48000 [==============================] - 15s 318us/step - loss: 0.0135 - accuracy: 0.9955 - val_loss: 0.0432 - val_accuracy: 0.9908\n",
      "Epoch 6/50\n",
      "48000/48000 [==============================] - 15s 314us/step - loss: 0.0113 - accuracy: 0.9962 - val_loss: 0.0413 - val_accuracy: 0.9917\n",
      "Epoch 7/50\n",
      "48000/48000 [==============================] - 15s 312us/step - loss: 0.0107 - accuracy: 0.9966 - val_loss: 0.0452 - val_accuracy: 0.9896\n",
      "Epoch 8/50\n",
      "48000/48000 [==============================] - 15s 311us/step - loss: 0.0081 - accuracy: 0.9973 - val_loss: 0.0459 - val_accuracy: 0.9915\n",
      "Epoch 9/50\n",
      "48000/48000 [==============================] - 15s 312us/step - loss: 0.0066 - accuracy: 0.9980 - val_loss: 0.0495 - val_accuracy: 0.9899\n",
      "Epoch 10/50\n",
      "48000/48000 [==============================] - 15s 311us/step - loss: 0.0060 - accuracy: 0.9979 - val_loss: 0.0515 - val_accuracy: 0.9917\n",
      "Epoch 11/50\n",
      "48000/48000 [==============================] - 15s 322us/step - loss: 0.0046 - accuracy: 0.9986 - val_loss: 0.0707 - val_accuracy: 0.9904\n",
      "Epoch 12/50\n",
      "48000/48000 [==============================] - 15s 321us/step - loss: 0.0050 - accuracy: 0.9985 - val_loss: 0.0673 - val_accuracy: 0.9896\n",
      "Epoch 13/50\n",
      "48000/48000 [==============================] - 15s 319us/step - loss: 0.0038 - accuracy: 0.9988 - val_loss: 0.0660 - val_accuracy: 0.9915\n",
      "Epoch 14/50\n",
      "48000/48000 [==============================] - 15s 318us/step - loss: 0.0050 - accuracy: 0.9984 - val_loss: 0.0685 - val_accuracy: 0.9915\n",
      "Epoch 15/50\n",
      "48000/48000 [==============================] - 16s 325us/step - loss: 0.0040 - accuracy: 0.9989 - val_loss: 0.0709 - val_accuracy: 0.9912\n",
      "Epoch 16/50\n",
      "48000/48000 [==============================] - 15s 318us/step - loss: 0.0029 - accuracy: 0.9991 - val_loss: 0.0740 - val_accuracy: 0.9917\n",
      "Epoch 17/50\n",
      "48000/48000 [==============================] - 15s 310us/step - loss: 0.0035 - accuracy: 0.9991 - val_loss: 0.0959 - val_accuracy: 0.9901\n",
      "Epoch 18/50\n",
      "48000/48000 [==============================] - 15s 310us/step - loss: 0.0027 - accuracy: 0.9991 - val_loss: 0.0966 - val_accuracy: 0.9897\n",
      "Epoch 19/50\n",
      "48000/48000 [==============================] - 15s 312us/step - loss: 0.0031 - accuracy: 0.9993 - val_loss: 0.0809 - val_accuracy: 0.9910\n",
      "Epoch 20/50\n",
      "48000/48000 [==============================] - 16s 324us/step - loss: 0.0034 - accuracy: 0.9991 - val_loss: 0.0887 - val_accuracy: 0.9908\n",
      "Epoch 21/50\n",
      "48000/48000 [==============================] - 16s 324us/step - loss: 0.0019 - accuracy: 0.9995 - val_loss: 0.0961 - val_accuracy: 0.9901\n",
      "Epoch 22/50\n",
      "48000/48000 [==============================] - 15s 313us/step - loss: 0.0022 - accuracy: 0.9995 - val_loss: 0.0889 - val_accuracy: 0.9909\n",
      "Epoch 23/50\n",
      "48000/48000 [==============================] - 15s 312us/step - loss: 0.0017 - accuracy: 0.9995 - val_loss: 0.0958 - val_accuracy: 0.9917\n",
      "Epoch 24/50\n",
      "48000/48000 [==============================] - 15s 307us/step - loss: 0.0020 - accuracy: 0.9994 - val_loss: 0.1186 - val_accuracy: 0.9895\n",
      "Epoch 25/50\n",
      "48000/48000 [==============================] - 15s 307us/step - loss: 0.0025 - accuracy: 0.9995 - val_loss: 0.0979 - val_accuracy: 0.9908\n",
      "Epoch 26/50\n",
      "48000/48000 [==============================] - 15s 308us/step - loss: 0.0016 - accuracy: 0.9996 - val_loss: 0.1412 - val_accuracy: 0.9896\n",
      "Epoch 27/50\n",
      "48000/48000 [==============================] - 15s 308us/step - loss: 0.0017 - accuracy: 0.9995 - val_loss: 0.1383 - val_accuracy: 0.9918\n",
      "Epoch 28/50\n",
      "48000/48000 [==============================] - 15s 308us/step - loss: 0.0014 - accuracy: 0.9996 - val_loss: 0.1382 - val_accuracy: 0.9911\n",
      "Epoch 29/50\n",
      "48000/48000 [==============================] - 15s 307us/step - loss: 0.0011 - accuracy: 0.9997 - val_loss: 0.1289 - val_accuracy: 0.9903\n",
      "Epoch 30/50\n",
      "48000/48000 [==============================] - 15s 308us/step - loss: 0.0023 - accuracy: 0.9995 - val_loss: 0.1124 - val_accuracy: 0.9912\n",
      "Epoch 31/50\n",
      "48000/48000 [==============================] - 15s 307us/step - loss: 0.0010 - accuracy: 0.9997 - val_loss: 0.1333 - val_accuracy: 0.9913\n",
      "Epoch 32/50\n",
      "48000/48000 [==============================] - 15s 307us/step - loss: 0.0021 - accuracy: 0.9995 - val_loss: 0.1229 - val_accuracy: 0.9912\n",
      "Epoch 33/50\n",
      "48000/48000 [==============================] - 15s 307us/step - loss: 0.0011 - accuracy: 0.9998 - val_loss: 0.1347 - val_accuracy: 0.9916\n",
      "Epoch 34/50\n",
      "48000/48000 [==============================] - 15s 307us/step - loss: 0.0014 - accuracy: 0.9998 - val_loss: 0.1392 - val_accuracy: 0.9917\n",
      "Epoch 35/50\n",
      "48000/48000 [==============================] - 15s 308us/step - loss: 0.0014 - accuracy: 0.9997 - val_loss: 0.1541 - val_accuracy: 0.9909\n",
      "Epoch 36/50\n",
      "48000/48000 [==============================] - 15s 308us/step - loss: 0.0013 - accuracy: 0.9997 - val_loss: 0.1421 - val_accuracy: 0.9918\n",
      "Epoch 37/50\n",
      "48000/48000 [==============================] - 15s 307us/step - loss: 0.0011 - accuracy: 0.9996 - val_loss: 0.1319 - val_accuracy: 0.9918\n",
      "Epoch 38/50\n",
      "48000/48000 [==============================] - 15s 308us/step - loss: 0.0014 - accuracy: 0.9996 - val_loss: 0.1733 - val_accuracy: 0.9898\n",
      "Epoch 39/50\n",
      "48000/48000 [==============================] - 15s 307us/step - loss: 9.7233e-04 - accuracy: 0.9998 - val_loss: 0.1569 - val_accuracy: 0.9902\n",
      "Epoch 40/50\n",
      "48000/48000 [==============================] - 15s 308us/step - loss: 0.0016 - accuracy: 0.9997 - val_loss: 0.1579 - val_accuracy: 0.9917\n",
      "Epoch 41/50\n",
      "48000/48000 [==============================] - 16s 334us/step - loss: 0.0013 - accuracy: 0.9996 - val_loss: 0.1524 - val_accuracy: 0.9915\n",
      "Epoch 42/50\n",
      "48000/48000 [==============================] - 15s 309us/step - loss: 0.0017 - accuracy: 0.9996 - val_loss: 0.1545 - val_accuracy: 0.9912\n",
      "Epoch 43/50\n",
      "48000/48000 [==============================] - 15s 307us/step - loss: 0.0016 - accuracy: 0.9996 - val_loss: 0.1621 - val_accuracy: 0.9919\n",
      "Epoch 44/50\n",
      "48000/48000 [==============================] - 15s 307us/step - loss: 0.0022 - accuracy: 0.9996 - val_loss: 0.1582 - val_accuracy: 0.9908\n",
      "Epoch 45/50\n",
      "48000/48000 [==============================] - 15s 305us/step - loss: 0.0020 - accuracy: 0.9996 - val_loss: 0.1989 - val_accuracy: 0.9910\n",
      "Epoch 46/50\n",
      "48000/48000 [==============================] - 15s 307us/step - loss: 0.0027 - accuracy: 0.9995 - val_loss: 0.1825 - val_accuracy: 0.9909\n",
      "Epoch 47/50\n",
      "48000/48000 [==============================] - 15s 306us/step - loss: 0.0018 - accuracy: 0.9996 - val_loss: 0.1898 - val_accuracy: 0.9913\n",
      "Epoch 48/50\n",
      "48000/48000 [==============================] - 15s 308us/step - loss: 0.0011 - accuracy: 0.9998 - val_loss: 0.2155 - val_accuracy: 0.9907\n",
      "Epoch 49/50\n",
      "48000/48000 [==============================] - 16s 337us/step - loss: 0.0022 - accuracy: 0.9996 - val_loss: 0.1935 - val_accuracy: 0.9917\n",
      "Epoch 50/50\n",
      "48000/48000 [==============================] - 15s 319us/step - loss: 0.0013 - accuracy: 0.9998 - val_loss: 0.1673 - val_accuracy: 0.9919\n"
     ]
    }
   ],
   "source": [
    "model.compile(optimizer=\"rmsprop\",\n",
    "              loss=\"categorical_crossentropy\",\n",
    "              metrics=[\"accuracy\"])\n",
    "history = model.fit(Xtrain, Ytrain, epochs=50, batch_size=64,\n",
    "                    validation_split=0.2)"
   ]
  },
  {
   "cell_type": "markdown",
   "metadata": {
    "colab_type": "text",
    "id": "Zg2bxGB0AJRO"
   },
   "source": [
    "### Evaluation du modèle"
   ]
  },
  {
   "cell_type": "code",
   "execution_count": 11,
   "metadata": {
    "colab": {
     "base_uri": "https://localhost:8080/",
     "height": 34
    },
    "colab_type": "code",
    "id": "RDmgdRWY__4c",
    "outputId": "15a61130-ea16-4a54-b65c-bbab8f170fb8"
   },
   "outputs": [
    {
     "name": "stdout",
     "output_type": "stream",
     "text": [
      "10000/10000 [==============================] - 1s 73us/step\n"
     ]
    }
   ],
   "source": [
    "test_loss, test_acc = model.evaluate(Xtest, Ytest)"
   ]
  },
  {
   "cell_type": "code",
   "execution_count": 12,
   "metadata": {
    "colab": {
     "base_uri": "https://localhost:8080/",
     "height": 34
    },
    "colab_type": "code",
    "id": "iA0K8fmGAX7f",
    "outputId": "72af1965-b73a-4c36-d590-bd9429fb7407"
   },
   "outputs": [
    {
     "data": {
      "text/plain": [
       "0.9926000237464905"
      ]
     },
     "execution_count": 12,
     "metadata": {},
     "output_type": "execute_result"
    }
   ],
   "source": [
    "test_acc"
   ]
  },
  {
   "cell_type": "code",
   "execution_count": 13,
   "metadata": {
    "colab": {
     "base_uri": "https://localhost:8080/",
     "height": 295
    },
    "colab_type": "code",
    "id": "CPSbzcl3EJGg",
    "outputId": "12b76061-ab26-436d-9ce7-b27ad2c032b3"
   },
   "outputs": [
    {
     "data": {
      "image/png": "[encoded data removed]",
      "text/plain": [
       "<Figure size 432x288 with 1 Axes>"
      ]
     },
     "metadata": {
      "needs_background": "light"
     },
     "output_type": "display_data"
    }
   ],
   "source": [
    "# Plot history: Loss\n",
    "plt.plot(history.history['loss'], label='MAE (testing data)')\n",
    "plt.plot(history.history['val_loss'], label='MAE (validation data)')\n",
    "plt.title('MAE for CCN on MNIST dataset')\n",
    "plt.ylabel('MAE value')\n",
    "plt.xlabel('No. epoch')\n",
    "plt.legend(loc=\"upper left\")\n",
    "plt.show()"
   ]
  },
  {
   "cell_type": "code",
   "execution_count": 14,
   "metadata": {
    "colab": {
     "base_uri": "https://localhost:8080/",
     "height": 295
    },
    "colab_type": "code",
    "id": "gwdAUdruEpmX",
    "outputId": "f3ade537-1b43-4b7b-96b0-70511be8eea9"
   },
   "outputs": [
    {
     "data": {
      "image/png": "[encoded data removed]",
      "text/plain": [
       "<Figure size 432x288 with 1 Axes>"
      ]
     },
     "metadata": {
      "needs_background": "light"
     },
     "output_type": "display_data"
    }
   ],
   "source": [
    "# Plot history: Accuracy\n",
    "plt.plot(history.history['accuracy'], \n",
    "         label='Accuracy (testing data)')\n",
    "plt.plot(history.history['val_accuracy'], \n",
    "         label='Accuracy (validation data)')\n",
    "plt.title('Accuracy for CNN on MNIST datasets')\n",
    "plt.ylabel('Accuracy value')\n",
    "plt.xlabel('No. epoch')\n",
    "plt.legend(loc=\"upper left\")\n",
    "plt.show()"
   ]
  },
  {
   "cell_type": "code",
   "execution_count": 15,
   "metadata": {},
   "outputs": [],
   "source": [
    "##### CNN entrainer sur 100 labels ########"
   ]
  },
  {
   "cell_type": "code",
   "execution_count": 47,
   "metadata": {},
   "outputs": [],
   "source": [
    "from keras.models import Sequential\n",
    "from keras.layers import Dense, Dropout, Activation, Flatten\n",
    "from keras.layers import Conv2D, MaxPooling2D\n",
    "from keras.optimizers import Adam\n",
    "from sklearn.utils import shuffle"
   ]
  },
  {
   "cell_type": "code",
   "execution_count": 48,
   "metadata": {},
   "outputs": [],
   "source": [
    "x, y = shuffle(Xtrain, Ytrain, random_state=15)\n",
    "x_train = x[0:100]\n",
    "y_train = y[0:100]"
   ]
  },
  {
   "cell_type": "code",
   "execution_count": 49,
   "metadata": {},
   "outputs": [],
   "source": [
    "model_semi = Sequential()\n",
    "#add   Conv2D   Activation  MaxPooling2D Dropout \n",
    "model_semi.add(Conv2D(32, (3, 3), padding='same',input_shape=x_train.shape[1:]))\n",
    "model_semi.add(Activation('relu'))\n",
    "model_semi.add(Conv2D(32, (3, 3)))\n",
    "model_semi.add(Activation('relu'))\n",
    "model_semi.add(MaxPooling2D(pool_size=(2, 2)))\n",
    "model_semi.add(Dropout(0.25))\n",
    "\n",
    "model_semi.add(Conv2D(64, (3, 3), padding='same'))\n",
    "model_semi.add(Activation('relu'))\n",
    "model_semi.add(Conv2D(64, (3, 3)))\n",
    "model_semi.add(Activation('relu'))\n",
    "model_semi.add(MaxPooling2D(pool_size=(2, 2)))\n",
    "model.add(Dropout(0.25))\n",
    "\n",
    "model_semi.add(Flatten())\n",
    "model_semi.add(Dense(512))\n",
    "model_semi.add(Activation('relu'))\n",
    "model_semi.add(Dropout(0.5))\n",
    "model_semi.add(Dense(10))\n",
    "model_semi.add(Activation('softmax'))"
   ]
  },
  {
   "cell_type": "code",
   "execution_count": 60,
   "metadata": {
    "scrolled": true
   },
   "outputs": [
    {
     "name": "stdout",
     "output_type": "stream",
     "text": [
      "Train on 80 samples, validate on 20 samples\n",
      "Epoch 1/50\n",
      "80/80 [==============================] - 0s 4ms/step - loss: 3.3211e-05 - accuracy: 1.0000 - val_loss: 1.6402 - val_accuracy: 0.6500\n",
      "Epoch 2/50\n",
      "80/80 [==============================] - 0s 1ms/step - loss: 3.0382e-06 - accuracy: 1.0000 - val_loss: 2.0004 - val_accuracy: 0.6500\n",
      "Epoch 3/50\n",
      "80/80 [==============================] - 0s 1ms/step - loss: 3.4837e-06 - accuracy: 1.0000 - val_loss: 2.3344 - val_accuracy: 0.6000\n",
      "Epoch 4/50\n",
      "80/80 [==============================] - 0s 1ms/step - loss: 1.4349e-06 - accuracy: 1.0000 - val_loss: 2.6447 - val_accuracy: 0.6000\n",
      "Epoch 5/50\n",
      "80/80 [==============================] - 0s 1ms/step - loss: 4.5289e-05 - accuracy: 1.0000 - val_loss: 2.6954 - val_accuracy: 0.6000\n",
      "Epoch 6/50\n",
      "80/80 [==============================] - 0s 1ms/step - loss: 3.3315e-06 - accuracy: 1.0000 - val_loss: 2.7445 - val_accuracy: 0.6000\n",
      "Epoch 7/50\n",
      "80/80 [==============================] - 0s 1ms/step - loss: 2.3140e-06 - accuracy: 1.0000 - val_loss: 2.8450 - val_accuracy: 0.6500\n",
      "Epoch 8/50\n",
      "80/80 [==============================] - 0s 1ms/step - loss: 2.1905e-07 - accuracy: 1.0000 - val_loss: 2.9375 - val_accuracy: 0.6500\n",
      "Epoch 9/50\n",
      "80/80 [==============================] - 0s 1ms/step - loss: 2.2352e-08 - accuracy: 1.0000 - val_loss: 3.0085 - val_accuracy: 0.6500\n",
      "Epoch 10/50\n",
      "80/80 [==============================] - 0s 1ms/step - loss: 4.6710e-06 - accuracy: 1.0000 - val_loss: 3.1056 - val_accuracy: 0.6000\n",
      "Epoch 11/50\n",
      "80/80 [==============================] - 0s 1ms/step - loss: 4.0233e-08 - accuracy: 1.0000 - val_loss: 3.2026 - val_accuracy: 0.6000\n",
      "Epoch 12/50\n",
      "80/80 [==============================] - 0s 1ms/step - loss: 5.3392e-04 - accuracy: 1.0000 - val_loss: 4.0917 - val_accuracy: 0.6000\n",
      "Epoch 13/50\n",
      "80/80 [==============================] - 0s 1ms/step - loss: 3.1292e-07 - accuracy: 1.0000 - val_loss: 4.8643 - val_accuracy: 0.6000\n",
      "Epoch 14/50\n",
      "80/80 [==============================] - 0s 1ms/step - loss: 1.4893e-04 - accuracy: 1.0000 - val_loss: 4.9785 - val_accuracy: 0.6500\n",
      "Epoch 15/50\n",
      "80/80 [==============================] - 0s 1ms/step - loss: 2.6822e-08 - accuracy: 1.0000 - val_loss: 5.2185 - val_accuracy: 0.6500\n",
      "Epoch 16/50\n",
      "80/80 [==============================] - 0s 1ms/step - loss: 1.4829e-04 - accuracy: 1.0000 - val_loss: 5.4075 - val_accuracy: 0.7000\n",
      "Epoch 17/50\n",
      "80/80 [==============================] - 0s 1ms/step - loss: 0.0019 - accuracy: 1.0000 - val_loss: 4.7569 - val_accuracy: 0.6500\n",
      "Epoch 18/50\n",
      "80/80 [==============================] - 0s 1ms/step - loss: 6.5713e-07 - accuracy: 1.0000 - val_loss: 4.3452 - val_accuracy: 0.7000\n",
      "Epoch 19/50\n",
      "80/80 [==============================] - 0s 1ms/step - loss: 3.2633e-07 - accuracy: 1.0000 - val_loss: 4.3859 - val_accuracy: 0.7000\n",
      "Epoch 20/50\n",
      "80/80 [==============================] - 0s 1ms/step - loss: 7.4804e-05 - accuracy: 1.0000 - val_loss: 4.2218 - val_accuracy: 0.7000\n",
      "Epoch 21/50\n",
      "80/80 [==============================] - 0s 1ms/step - loss: 8.2551e-07 - accuracy: 1.0000 - val_loss: 3.9014 - val_accuracy: 0.7000\n",
      "Epoch 22/50\n",
      "80/80 [==============================] - 0s 1ms/step - loss: 4.3213e-08 - accuracy: 1.0000 - val_loss: 3.6191 - val_accuracy: 0.7000\n",
      "Epoch 23/50\n",
      "80/80 [==============================] - 0s 1ms/step - loss: 6.2585e-08 - accuracy: 1.0000 - val_loss: 3.4324 - val_accuracy: 0.7000\n",
      "Epoch 24/50\n",
      "80/80 [==============================] - 0s 1ms/step - loss: 3.0249e-07 - accuracy: 1.0000 - val_loss: 3.3152 - val_accuracy: 0.7500\n",
      "Epoch 25/50\n",
      "80/80 [==============================] - 0s 1ms/step - loss: 0.0127 - accuracy: 0.9875 - val_loss: 2.7850 - val_accuracy: 0.6500\n",
      "Epoch 26/50\n",
      "80/80 [==============================] - 0s 1ms/step - loss: 3.0696e-07 - accuracy: 1.0000 - val_loss: 2.9678 - val_accuracy: 0.5500\n",
      "Epoch 27/50\n",
      "80/80 [==============================] - 0s 1ms/step - loss: 2.3885e-06 - accuracy: 1.0000 - val_loss: 3.3120 - val_accuracy: 0.5000\n",
      "Epoch 28/50\n",
      "80/80 [==============================] - 0s 1ms/step - loss: 8.4087e-06 - accuracy: 1.0000 - val_loss: 3.5715 - val_accuracy: 0.5500\n",
      "Epoch 29/50\n",
      "80/80 [==============================] - 0s 1ms/step - loss: 0.0550 - accuracy: 0.9875 - val_loss: 3.3148 - val_accuracy: 0.6000\n",
      "Epoch 30/50\n",
      "80/80 [==============================] - 0s 1ms/step - loss: 7.2219e-05 - accuracy: 1.0000 - val_loss: 2.9972 - val_accuracy: 0.6000\n",
      "Epoch 31/50\n",
      "80/80 [==============================] - 0s 1ms/step - loss: 5.8412e-07 - accuracy: 1.0000 - val_loss: 2.7998 - val_accuracy: 0.6000\n",
      "Epoch 32/50\n",
      "80/80 [==============================] - 0s 1ms/step - loss: 2.4181e-05 - accuracy: 1.0000 - val_loss: 2.6581 - val_accuracy: 0.6500\n",
      "Epoch 33/50\n",
      "80/80 [==============================] - 0s 1ms/step - loss: 0.0013 - accuracy: 1.0000 - val_loss: 3.1883 - val_accuracy: 0.6000\n",
      "Epoch 34/50\n",
      "80/80 [==============================] - 0s 1ms/step - loss: 1.3390e-04 - accuracy: 1.0000 - val_loss: 3.8291 - val_accuracy: 0.5000\n",
      "Epoch 35/50\n",
      "80/80 [==============================] - 0s 1ms/step - loss: 1.0878e-07 - accuracy: 1.0000 - val_loss: 4.5192 - val_accuracy: 0.5000\n",
      "Epoch 36/50\n",
      "80/80 [==============================] - 0s 1ms/step - loss: 3.0861e-05 - accuracy: 1.0000 - val_loss: 5.0578 - val_accuracy: 0.4500\n",
      "Epoch 37/50\n",
      "80/80 [==============================] - 0s 1ms/step - loss: 8.2655e-05 - accuracy: 1.0000 - val_loss: 5.4593 - val_accuracy: 0.4500\n",
      "Epoch 38/50\n",
      "80/80 [==============================] - 0s 1ms/step - loss: 4.0368e-05 - accuracy: 1.0000 - val_loss: 5.6068 - val_accuracy: 0.4500\n",
      "Epoch 39/50\n",
      "80/80 [==============================] - 0s 1ms/step - loss: 0.0051 - accuracy: 1.0000 - val_loss: 4.9372 - val_accuracy: 0.5000\n",
      "Epoch 40/50\n",
      "80/80 [==============================] - 0s 1ms/step - loss: 1.3701e-04 - accuracy: 1.0000 - val_loss: 4.5259 - val_accuracy: 0.5000\n",
      "Epoch 41/50\n",
      "80/80 [==============================] - 0s 1ms/step - loss: 5.0233e-05 - accuracy: 1.0000 - val_loss: 4.1181 - val_accuracy: 0.5000\n",
      "Epoch 42/50\n",
      "80/80 [==============================] - 0s 1ms/step - loss: 3.3821e-04 - accuracy: 1.0000 - val_loss: 3.8080 - val_accuracy: 0.5000\n",
      "Epoch 43/50\n",
      "80/80 [==============================] - 0s 1ms/step - loss: 8.3444e-07 - accuracy: 1.0000 - val_loss: 3.6020 - val_accuracy: 0.4500\n",
      "Epoch 44/50\n",
      "80/80 [==============================] - 0s 1ms/step - loss: 5.1384e-06 - accuracy: 1.0000 - val_loss: 3.4917 - val_accuracy: 0.5000\n",
      "Epoch 45/50\n",
      "80/80 [==============================] - 0s 1ms/step - loss: 4.7613e-04 - accuracy: 1.0000 - val_loss: 3.4127 - val_accuracy: 0.5000\n",
      "Epoch 46/50\n",
      "80/80 [==============================] - 0s 1ms/step - loss: 1.2383e-05 - accuracy: 1.0000 - val_loss: 3.3644 - val_accuracy: 0.5500\n",
      "Epoch 47/50\n",
      "80/80 [==============================] - 0s 1ms/step - loss: 1.7432e-05 - accuracy: 1.0000 - val_loss: 3.2988 - val_accuracy: 0.5500\n",
      "Epoch 48/50\n",
      "80/80 [==============================] - 0s 1ms/step - loss: 1.6877e-04 - accuracy: 1.0000 - val_loss: 3.3017 - val_accuracy: 0.5500\n",
      "Epoch 49/50\n",
      "80/80 [==============================] - 0s 1ms/step - loss: 1.0346e-05 - accuracy: 1.0000 - val_loss: 3.3318 - val_accuracy: 0.5500\n",
      "Epoch 50/50\n",
      "80/80 [==============================] - 0s 1ms/step - loss: 1.0132e-06 - accuracy: 1.0000 - val_loss: 3.3604 - val_accuracy: 0.5500\n"
     ]
    }
   ],
   "source": [
    "model_semi.compile(optimizer=\"adam\",loss=\"categorical_crossentropy\",metrics=[\"accuracy\"])\n",
    "history = model_semi.fit(x_train, y_train, epochs=50, batch_size=64, validation_split=0.2)"
   ]
  },
  {
   "cell_type": "code",
   "execution_count": 61,
   "metadata": {},
   "outputs": [
    {
     "name": "stdout",
     "output_type": "stream",
     "text": [
      "10000/10000 [==============================] - 3s 262us/step\n"
     ]
    },
    {
     "data": {
      "text/plain": [
       "0.8587999939918518"
      ]
     },
     "execution_count": 61,
     "metadata": {},
     "output_type": "execute_result"
    }
   ],
   "source": [
    "test_loss, test_acc = model_semi.evaluate(Xtest, Ytest)\n",
    "test_acc"
   ]
  },
  {
   "cell_type": "code",
   "execution_count": null,
   "metadata": {},
   "outputs": [],
   "source": []
  }
 ],
 "metadata": {
  "colab": {
   "authorship_tag": "ABX9TyOGdm1I3gpDCDtO19KcMGzl",
   "collapsed_sections": [],
   "include_colab_link": true,
   "name": "CNN_keras.ipynb",
   "provenance": []
  },
  "kernelspec": {
   "display_name": "Python 3",
   "language": "python",
   "name": "python3"
  },
  "language_info": {
   "codemirror_mode": {
    "name": "ipython",
    "version": 3
   },
   "file_extension": ".py",
   "mimetype": "text/x-python",
   "name": "python",
   "nbconvert_exporter": "python",
   "pygments_lexer": "ipython3",
   "version": "3.7.6"
  }
 },
 "nbformat": 4,
 "nbformat_minor": 1
}
