{
  "nbformat": 4,
  "nbformat_minor": 0,
  "metadata": {
    "colab": {
      "name": "CNN_keras.ipynb",
      "provenance": [],
      "collapsed_sections": [],
      "authorship_tag": "ABX9TyOGdm1I3gpDCDtO19KcMGzl",
      "include_colab_link": true
    },
    "kernelspec": {
      "name": "python3",
      "display_name": "Python 3"
    }
  },
  "cells": [
    {
      "cell_type": "markdown",
      "metadata": {
        "id": "view-in-github",
        "colab_type": "text"
      },
      "source": [
        "<a href=\"https://colab.research.google.com/github/liepstik/semi_supervised_learning_MNIST/blob/master/CNN_keras.ipynb\" target=\"_parent\"><img src=\"https://colab.research.google.com/assets/colab-badge.svg\" alt=\"Open In Colab\"/></a>"
      ]
    },
    {
      "cell_type": "markdown",
      "metadata": {
        "id": "pXhT46ND6U_q",
        "colab_type": "text"
      },
      "source": [
        "# CNN (avec Keras)"
      ]
    },
    {
      "cell_type": "markdown",
      "metadata": {
        "id": "r3P92Phx61HC",
        "colab_type": "text"
      },
      "source": [
        "## Imports "
      ]
    },
    {
      "cell_type": "code",
      "metadata": {
        "id": "y9dnvGZb6M0q",
        "colab_type": "code",
        "colab": {}
      },
      "source": [
        "import keras\n",
        "from keras import layers\n",
        "from keras import models\n",
        "from keras.datasets import mnist \n",
        "from keras.utils import to_categorical\n",
        "import matplotlib.pyplot as plt"
      ],
      "execution_count": 0,
      "outputs": []
    },
    {
      "cell_type": "markdown",
      "metadata": {
        "id": "cidpuD_I_Xs0",
        "colab_type": "text"
      },
      "source": [
        "### Construction du modèle"
      ]
    },
    {
      "cell_type": "code",
      "metadata": {
        "id": "QvmqgsF764yM",
        "colab_type": "code",
        "colab": {}
      },
      "source": [
        "model = models.Sequential()\n",
        "model.add(layers.Conv2D(32, (3,3), activation=\"relu\",\n",
        "                        input_shape=(28, 28, 1)))\n",
        "model.add(layers.MaxPooling2D((2,2)))\n",
        "model.add(layers.Conv2D(64, (3,3), activation=\"relu\"))\n",
        "model.add(layers.MaxPooling2D((2,2)))\n",
        "model.add(layers.Conv2D(64, (3,3), activation=\"relu\"))"
      ],
      "execution_count": 0,
      "outputs": []
    },
    {
      "cell_type": "code",
      "metadata": {
        "id": "rGUVILRh8qse",
        "colab_type": "code",
        "colab": {
          "base_uri": "https://localhost:8080/",
          "height": 323
        },
        "outputId": "a2c42895-32a6-40eb-8d7f-5f91e36e6d44"
      },
      "source": [
        "model.summary()"
      ],
      "execution_count": 6,
      "outputs": [
        {
          "output_type": "stream",
          "text": [
            "Model: \"sequential_1\"\n",
            "_________________________________________________________________\n",
            "Layer (type)                 Output Shape              Param #   \n",
            "=================================================================\n",
            "conv2d_1 (Conv2D)            (None, 26, 26, 32)        320       \n",
            "_________________________________________________________________\n",
            "max_pooling2d_1 (MaxPooling2 (None, 13, 13, 32)        0         \n",
            "_________________________________________________________________\n",
            "conv2d_2 (Conv2D)            (None, 11, 11, 64)        18496     \n",
            "_________________________________________________________________\n",
            "max_pooling2d_2 (MaxPooling2 (None, 5, 5, 64)          0         \n",
            "_________________________________________________________________\n",
            "conv2d_3 (Conv2D)            (None, 3, 3, 64)          36928     \n",
            "=================================================================\n",
            "Total params: 55,744\n",
            "Trainable params: 55,744\n",
            "Non-trainable params: 0\n",
            "_________________________________________________________________\n"
          ],
          "name": "stdout"
        }
      ]
    },
    {
      "cell_type": "code",
      "metadata": {
        "id": "MacR8dxB8uer",
        "colab_type": "code",
        "colab": {
          "base_uri": "https://localhost:8080/",
          "height": 425
        },
        "outputId": "f626e2df-dc62-40fe-a147-7c141a3f4595"
      },
      "source": [
        "# pour passer d'un tenseur (3D) a un vecteur (1D)\n",
        "model.add(layers.Flatten())\n",
        "model.add(layers.Dense(64, activation=\"relu\"))\n",
        "# on veut une classification a 10 classes\n",
        "model.add(layers.Dense(10, activation=\"softmax\")) \n",
        "\n",
        "model.summary()"
      ],
      "execution_count": 7,
      "outputs": [
        {
          "output_type": "stream",
          "text": [
            "Model: \"sequential_1\"\n",
            "_________________________________________________________________\n",
            "Layer (type)                 Output Shape              Param #   \n",
            "=================================================================\n",
            "conv2d_1 (Conv2D)            (None, 26, 26, 32)        320       \n",
            "_________________________________________________________________\n",
            "max_pooling2d_1 (MaxPooling2 (None, 13, 13, 32)        0         \n",
            "_________________________________________________________________\n",
            "conv2d_2 (Conv2D)            (None, 11, 11, 64)        18496     \n",
            "_________________________________________________________________\n",
            "max_pooling2d_2 (MaxPooling2 (None, 5, 5, 64)          0         \n",
            "_________________________________________________________________\n",
            "conv2d_3 (Conv2D)            (None, 3, 3, 64)          36928     \n",
            "_________________________________________________________________\n",
            "flatten_1 (Flatten)          (None, 576)               0         \n",
            "_________________________________________________________________\n",
            "dense_1 (Dense)              (None, 64)                36928     \n",
            "_________________________________________________________________\n",
            "dense_2 (Dense)              (None, 10)                650       \n",
            "=================================================================\n",
            "Total params: 93,322\n",
            "Trainable params: 93,322\n",
            "Non-trainable params: 0\n",
            "_________________________________________________________________\n"
          ],
          "name": "stdout"
        }
      ]
    },
    {
      "cell_type": "markdown",
      "metadata": {
        "id": "2dHE8GCX_SuA",
        "colab_type": "text"
      },
      "source": [
        "### Chargement des données MNIST\n"
      ]
    },
    {
      "cell_type": "code",
      "metadata": {
        "id": "qVVAqt7F9zFD",
        "colab_type": "code",
        "colab": {}
      },
      "source": [
        "(Xtrain, Ytrain), (Xtest, Ytest) = mnist.load_data()\n",
        "\n",
        "Xtrain = Xtrain.reshape((60000, 28,28,1))\n",
        "Xtrain = Xtrain.astype(\"float32\")/255\n",
        "\n",
        "Xtest = Xtest.reshape((10000, 28,28,1))\n",
        "Xtest = Xtest.astype(\"float32\")/255\n",
        "\n",
        "Ytrain = to_categorical(Ytrain)\n",
        "Ytest = to_categorical(Ytest)"
      ],
      "execution_count": 0,
      "outputs": []
    },
    {
      "cell_type": "markdown",
      "metadata": {
        "id": "oRY_jwIG_fFo",
        "colab_type": "text"
      },
      "source": [
        "### Application du modèle"
      ]
    },
    {
      "cell_type": "code",
      "metadata": {
        "id": "atxUAy2__lWk",
        "colab_type": "code",
        "colab": {
          "base_uri": "https://localhost:8080/",
          "height": 224
        },
        "outputId": "06cc965e-a5ce-48bb-cabe-0ec05bfe5c16"
      },
      "source": [
        "model.compile(optimizer=\"rmsprop\",\n",
        "              loss=\"categorical_crossentropy\",\n",
        "              metrics=[\"accuracy\"])\n",
        "history = model.fit(Xtrain, Ytrain, epochs=5, batch_size=64,\n",
        "                    validation_split=0.2)"
      ],
      "execution_count": 31,
      "outputs": [
        {
          "output_type": "stream",
          "text": [
            "Train on 48000 samples, validate on 12000 samples\n",
            "Epoch 1/5\n",
            "48000/48000 [==============================] - 39s 814us/step - loss: 0.0032 - accuracy: 0.9989 - val_loss: 0.0216 - val_accuracy: 0.9965\n",
            "Epoch 2/5\n",
            "48000/48000 [==============================] - 39s 821us/step - loss: 0.0024 - accuracy: 0.9992 - val_loss: 0.0202 - val_accuracy: 0.9967\n",
            "Epoch 3/5\n",
            "48000/48000 [==============================] - 39s 820us/step - loss: 0.0020 - accuracy: 0.9994 - val_loss: 0.0280 - val_accuracy: 0.9957\n",
            "Epoch 4/5\n",
            "48000/48000 [==============================] - 39s 808us/step - loss: 0.0030 - accuracy: 0.9992 - val_loss: 0.0282 - val_accuracy: 0.9965\n",
            "Epoch 5/5\n",
            "48000/48000 [==============================] - 39s 809us/step - loss: 0.0021 - accuracy: 0.9992 - val_loss: 0.0354 - val_accuracy: 0.9961\n"
          ],
          "name": "stdout"
        }
      ]
    },
    {
      "cell_type": "markdown",
      "metadata": {
        "id": "Zg2bxGB0AJRO",
        "colab_type": "text"
      },
      "source": [
        "### Evaluation du modèle"
      ]
    },
    {
      "cell_type": "code",
      "metadata": {
        "id": "RDmgdRWY__4c",
        "colab_type": "code",
        "colab": {
          "base_uri": "https://localhost:8080/",
          "height": 34
        },
        "outputId": "15a61130-ea16-4a54-b65c-bbab8f170fb8"
      },
      "source": [
        "test_loss, test_acc = model.evaluate(Xtest, Ytest)"
      ],
      "execution_count": 32,
      "outputs": [
        {
          "output_type": "stream",
          "text": [
            "10000/10000 [==============================] - 3s 262us/step\n"
          ],
          "name": "stdout"
        }
      ]
    },
    {
      "cell_type": "code",
      "metadata": {
        "id": "iA0K8fmGAX7f",
        "colab_type": "code",
        "colab": {
          "base_uri": "https://localhost:8080/",
          "height": 34
        },
        "outputId": "72af1965-b73a-4c36-d590-bd9429fb7407"
      },
      "source": [
        "test_acc"
      ],
      "execution_count": 33,
      "outputs": [
        {
          "output_type": "execute_result",
          "data": {
            "text/plain": [
              "0.992900013923645"
            ]
          },
          "metadata": {
            "tags": []
          },
          "execution_count": 33
        }
      ]
    },
    {
      "cell_type": "code",
      "metadata": {
        "id": "CPSbzcl3EJGg",
        "colab_type": "code",
        "colab": {
          "base_uri": "https://localhost:8080/",
          "height": 295
        },
        "outputId": "12b76061-ab26-436d-9ce7-b27ad2c032b3"
      },
      "source": [
        "# Plot history: Loss\n",
        "plt.plot(history.history['loss'], label='MAE (testing data)')\n",
        "plt.plot(history.history['val_loss'], label='MAE (validation data)')\n",
        "plt.title('MAE for CCN on MNIST dataset')\n",
        "plt.ylabel('MAE value')\n",
        "plt.xlabel('No. epoch')\n",
        "plt.legend(loc=\"upper left\")\n",
        "plt.show()"
      ],
      "execution_count": 35,
      "outputs": [
        {
          "output_type": "display_data",
          "data": {
            "image/png": "[encoded data removed]",
            "text/plain": [
              "<Figure size 432x288 with 1 Axes>"
            ]
          },
          "metadata": {
            "tags": [],
            "needs_background": "light"
          }
        }
      ]
    },
    {
      "cell_type": "code",
      "metadata": {
        "id": "gwdAUdruEpmX",
        "colab_type": "code",
        "colab": {
          "base_uri": "https://localhost:8080/",
          "height": 295
        },
        "outputId": "f3ade537-1b43-4b7b-96b0-70511be8eea9"
      },
      "source": [
        "# Plot history: Accuracy\n",
        "plt.plot(history.history['accuracy'], \n",
        "         label='Accuracy (testing data)')\n",
        "plt.plot(history.history['val_accuracy'], \n",
        "         label='Accuracy (validation data)')\n",
        "plt.title('Accuracy for CNN on MNIST datasets')\n",
        "plt.ylabel('Accuracy value')\n",
        "plt.xlabel('No. epoch')\n",
        "plt.legend(loc=\"upper left\")\n",
        "plt.show()"
      ],
      "execution_count": 36,
      "outputs": [
        {
          "output_type": "display_data",
          "data": {
            "image/png": "[encoded data removed]",
            "text/plain": [
              "<Figure size 432x288 with 1 Axes>"
            ]
          },
          "metadata": {
            "tags": [],
            "needs_background": "light"
          }
        }
      ]
    },
    {
      "cell_type": "code",
      "metadata": {
        "id": "8Ts1sSX0FqK4",
        "colab_type": "code",
        "colab": {}
      },
      "source": [
        ""
      ],
      "execution_count": 0,
      "outputs": []
    }
  ]
}